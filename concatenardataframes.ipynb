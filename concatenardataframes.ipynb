{
 "cells": [
  {
   "cell_type": "code",
   "execution_count": 3,
   "metadata": {},
   "outputs": [],
   "source": [
    "import pandas as pd\n",
    "import numpy as np"
   ]
  },
  {
   "cell_type": "code",
   "execution_count": 9,
   "metadata": {},
   "outputs": [],
   "source": [
    "np.set_printoptions(precision = 1)\n",
    "x1 = np.random.rand(2,5)*10"
   ]
  },
  {
   "cell_type": "code",
   "execution_count": 10,
   "metadata": {},
   "outputs": [],
   "source": [
    "x2 = np.random.rand(2,5)* -10"
   ]
  },
  {
   "cell_type": "code",
   "execution_count": 11,
   "metadata": {},
   "outputs": [
    {
     "output_type": "execute_result",
     "data": {
      "text/plain": "array([[ 20.1,  49.4,  53.5, 100. ,  85.1],\n       [ 58.1,  83.4,   8.8,   0.1,   3.2],\n       [-97.8, -58.6, -25.2,  -0.8, -58.4],\n       [-25.8, -10.4, -37.2, -11.2, -57.6]])"
     },
     "metadata": {},
     "execution_count": 11
    }
   ],
   "source": [
    "np.concatenate([x1,x2])"
   ]
  },
  {
   "cell_type": "code",
   "execution_count": 12,
   "metadata": {},
   "outputs": [
    {
     "output_type": "execute_result",
     "data": {
      "text/plain": "array([[ 20.1,  49.4,  53.5, 100. ,  85.1, -97.8, -58.6, -25.2,  -0.8,\n        -58.4],\n       [ 58.1,  83.4,   8.8,   0.1,   3.2, -25.8, -10.4, -37.2, -11.2,\n        -57.6]])"
     },
     "metadata": {},
     "execution_count": 12
    }
   ],
   "source": [
    "np.concatenate([x1,x2],axis=1)"
   ]
  },
  {
   "cell_type": "code",
   "execution_count": 14,
   "metadata": {},
   "outputs": [
    {
     "output_type": "execute_result",
     "data": {
      "text/plain": "a    20.128510\nb    49.356474\nc    53.525414\nd    99.970675\ne    85.145872\ndtype: float64"
     },
     "metadata": {},
     "execution_count": 14
    }
   ],
   "source": [
    "s1 = pd.Series(x1[0],index = [\"a\",\"b\",\"c\",\"d\",\"e\"])\n",
    "s1"
   ]
  },
  {
   "cell_type": "code",
   "execution_count": 21,
   "metadata": {},
   "outputs": [],
   "source": [
    "s2 = pd.Series(x2[0],index = [\"c\",\"d\",\"e\",\"f\",\"g\"])"
   ]
  },
  {
   "cell_type": "markdown",
   "metadata": {},
   "source": [
    "## Para concatenar  series se utiliza el metodo concat"
   ]
  },
  {
   "cell_type": "code",
   "execution_count": 22,
   "metadata": {},
   "outputs": [
    {
     "output_type": "execute_result",
     "data": {
      "text/plain": "           0          1\na  20.128510        NaN\nb  49.356474        NaN\nc  53.525414 -97.778212\nd  99.970675 -58.633366\ne  85.145872 -25.154250\nf        NaN  -0.832682\ng        NaN -58.383867",
      "text/html": "<div>\n<style scoped>\n    .dataframe tbody tr th:only-of-type {\n        vertical-align: middle;\n    }\n\n    .dataframe tbody tr th {\n        vertical-align: top;\n    }\n\n    .dataframe thead th {\n        text-align: right;\n    }\n</style>\n<table border=\"1\" class=\"dataframe\">\n  <thead>\n    <tr style=\"text-align: right;\">\n      <th></th>\n      <th>0</th>\n      <th>1</th>\n    </tr>\n  </thead>\n  <tbody>\n    <tr>\n      <th>a</th>\n      <td>20.128510</td>\n      <td>NaN</td>\n    </tr>\n    <tr>\n      <th>b</th>\n      <td>49.356474</td>\n      <td>NaN</td>\n    </tr>\n    <tr>\n      <th>c</th>\n      <td>53.525414</td>\n      <td>-97.778212</td>\n    </tr>\n    <tr>\n      <th>d</th>\n      <td>99.970675</td>\n      <td>-58.633366</td>\n    </tr>\n    <tr>\n      <th>e</th>\n      <td>85.145872</td>\n      <td>-25.154250</td>\n    </tr>\n    <tr>\n      <th>f</th>\n      <td>NaN</td>\n      <td>-0.832682</td>\n    </tr>\n    <tr>\n      <th>g</th>\n      <td>NaN</td>\n      <td>-58.383867</td>\n    </tr>\n  </tbody>\n</table>\n</div>"
     },
     "metadata": {},
     "execution_count": 22
    }
   ],
   "source": [
    "pd.concat([s1,s2],axis = 1)"
   ]
  },
  {
   "cell_type": "markdown",
   "metadata": {},
   "source": [
    "## Para borrar el indice se utiliza reset_index"
   ]
  },
  {
   "cell_type": "code",
   "execution_count": 23,
   "metadata": {},
   "outputs": [
    {
     "output_type": "execute_result",
     "data": {
      "text/plain": "0    20.128510\n1    49.356474\n2    53.525414\n3    99.970675\n4    85.145872\ndtype: float64"
     },
     "metadata": {},
     "execution_count": 23
    }
   ],
   "source": [
    "s1.reset_index(drop= True)"
   ]
  },
  {
   "cell_type": "code",
   "execution_count": 28,
   "metadata": {},
   "outputs": [
    {
     "output_type": "execute_result",
     "data": {
      "text/plain": "0    20.128510\n1    49.356474\n2    53.525414\n3    99.970675\n4    85.145872\n0   -97.778212\n1   -58.633366\n2   -25.154250\n3    -0.832682\n4   -58.383867\ndtype: float64"
     },
     "metadata": {},
     "execution_count": 28
    }
   ],
   "source": [
    "pd.concat([s1.reset_index(drop= True),s2.reset_index(drop= True)])"
   ]
  },
  {
   "cell_type": "code",
   "execution_count": 29,
   "metadata": {},
   "outputs": [
    {
     "output_type": "execute_result",
     "data": {
      "text/plain": "           0          1\n0  20.128510 -97.778212\n1  49.356474 -58.633366\n2  53.525414 -25.154250\n3  99.970675  -0.832682\n4  85.145872 -58.383867",
      "text/html": "<div>\n<style scoped>\n    .dataframe tbody tr th:only-of-type {\n        vertical-align: middle;\n    }\n\n    .dataframe tbody tr th {\n        vertical-align: top;\n    }\n\n    .dataframe thead th {\n        text-align: right;\n    }\n</style>\n<table border=\"1\" class=\"dataframe\">\n  <thead>\n    <tr style=\"text-align: right;\">\n      <th></th>\n      <th>0</th>\n      <th>1</th>\n    </tr>\n  </thead>\n  <tbody>\n    <tr>\n      <th>0</th>\n      <td>20.128510</td>\n      <td>-97.778212</td>\n    </tr>\n    <tr>\n      <th>1</th>\n      <td>49.356474</td>\n      <td>-58.633366</td>\n    </tr>\n    <tr>\n      <th>2</th>\n      <td>53.525414</td>\n      <td>-25.154250</td>\n    </tr>\n    <tr>\n      <th>3</th>\n      <td>99.970675</td>\n      <td>-0.832682</td>\n    </tr>\n    <tr>\n      <th>4</th>\n      <td>85.145872</td>\n      <td>-58.383867</td>\n    </tr>\n  </tbody>\n</table>\n</div>"
     },
     "metadata": {},
     "execution_count": 29
    }
   ],
   "source": [
    "pd.concat([s1.reset_index(drop= True),s2.reset_index(drop= True)],axis = 1)"
   ]
  },
  {
   "cell_type": "code",
   "execution_count": 30,
   "metadata": {},
   "outputs": [],
   "source": [
    "df1 = pd.DataFrame(np.random.rand(3,2)*10,columns = [\"a\",\"b\"])"
   ]
  },
  {
   "cell_type": "code",
   "execution_count": 32,
   "metadata": {},
   "outputs": [],
   "source": [
    "df2 = pd.DataFrame(np.random.rand(3,2)*-10,columns = [\"a\",\"b\"])"
   ]
  },
  {
   "cell_type": "markdown",
   "metadata": {},
   "source": [
    "## Para unir dos dataframes se utiliza concat"
   ]
  },
  {
   "cell_type": "code",
   "execution_count": 33,
   "metadata": {},
   "outputs": [
    {
     "output_type": "execute_result",
     "data": {
      "text/plain": "          a         b\n0  2.984786  3.870989\n1  4.216217  5.411019\n2  8.472902  3.498952\n0 -0.870076 -8.699182\n1 -1.649456 -6.149721\n2 -6.903922 -9.298318",
      "text/html": "<div>\n<style scoped>\n    .dataframe tbody tr th:only-of-type {\n        vertical-align: middle;\n    }\n\n    .dataframe tbody tr th {\n        vertical-align: top;\n    }\n\n    .dataframe thead th {\n        text-align: right;\n    }\n</style>\n<table border=\"1\" class=\"dataframe\">\n  <thead>\n    <tr style=\"text-align: right;\">\n      <th></th>\n      <th>a</th>\n      <th>b</th>\n    </tr>\n  </thead>\n  <tbody>\n    <tr>\n      <th>0</th>\n      <td>2.984786</td>\n      <td>3.870989</td>\n    </tr>\n    <tr>\n      <th>1</th>\n      <td>4.216217</td>\n      <td>5.411019</td>\n    </tr>\n    <tr>\n      <th>2</th>\n      <td>8.472902</td>\n      <td>3.498952</td>\n    </tr>\n    <tr>\n      <th>0</th>\n      <td>-0.870076</td>\n      <td>-8.699182</td>\n    </tr>\n    <tr>\n      <th>1</th>\n      <td>-1.649456</td>\n      <td>-6.149721</td>\n    </tr>\n    <tr>\n      <th>2</th>\n      <td>-6.903922</td>\n      <td>-9.298318</td>\n    </tr>\n  </tbody>\n</table>\n</div>"
     },
     "metadata": {},
     "execution_count": 33
    }
   ],
   "source": [
    "pd.concat([df1,df2])"
   ]
  },
  {
   "cell_type": "code",
   "execution_count": 34,
   "metadata": {},
   "outputs": [
    {
     "output_type": "execute_result",
     "data": {
      "text/plain": "          a         b         a         b\n0  2.984786  3.870989 -0.870076 -8.699182\n1  4.216217  5.411019 -1.649456 -6.149721\n2  8.472902  3.498952 -6.903922 -9.298318",
      "text/html": "<div>\n<style scoped>\n    .dataframe tbody tr th:only-of-type {\n        vertical-align: middle;\n    }\n\n    .dataframe tbody tr th {\n        vertical-align: top;\n    }\n\n    .dataframe thead th {\n        text-align: right;\n    }\n</style>\n<table border=\"1\" class=\"dataframe\">\n  <thead>\n    <tr style=\"text-align: right;\">\n      <th></th>\n      <th>a</th>\n      <th>b</th>\n      <th>a</th>\n      <th>b</th>\n    </tr>\n  </thead>\n  <tbody>\n    <tr>\n      <th>0</th>\n      <td>2.984786</td>\n      <td>3.870989</td>\n      <td>-0.870076</td>\n      <td>-8.699182</td>\n    </tr>\n    <tr>\n      <th>1</th>\n      <td>4.216217</td>\n      <td>5.411019</td>\n      <td>-1.649456</td>\n      <td>-6.149721</td>\n    </tr>\n    <tr>\n      <th>2</th>\n      <td>8.472902</td>\n      <td>3.498952</td>\n      <td>-6.903922</td>\n      <td>-9.298318</td>\n    </tr>\n  </tbody>\n</table>\n</div>"
     },
     "metadata": {},
     "execution_count": 34
    }
   ],
   "source": [
    "pd.concat([df1,df2],axis = 1)"
   ]
  },
  {
   "cell_type": "code",
   "execution_count": 36,
   "metadata": {},
   "outputs": [
    {
     "output_type": "execute_result",
     "data": {
      "text/plain": "          a         b\n0  2.984786  3.870989\n1  4.216217  5.411019\n2  8.472902  3.498952\n0 -0.870076 -8.699182\n1 -1.649456 -6.149721\n2 -6.903922 -9.298318",
      "text/html": "<div>\n<style scoped>\n    .dataframe tbody tr th:only-of-type {\n        vertical-align: middle;\n    }\n\n    .dataframe tbody tr th {\n        vertical-align: top;\n    }\n\n    .dataframe thead th {\n        text-align: right;\n    }\n</style>\n<table border=\"1\" class=\"dataframe\">\n  <thead>\n    <tr style=\"text-align: right;\">\n      <th></th>\n      <th>a</th>\n      <th>b</th>\n    </tr>\n  </thead>\n  <tbody>\n    <tr>\n      <th>0</th>\n      <td>2.984786</td>\n      <td>3.870989</td>\n    </tr>\n    <tr>\n      <th>1</th>\n      <td>4.216217</td>\n      <td>5.411019</td>\n    </tr>\n    <tr>\n      <th>2</th>\n      <td>8.472902</td>\n      <td>3.498952</td>\n    </tr>\n    <tr>\n      <th>0</th>\n      <td>-0.870076</td>\n      <td>-8.699182</td>\n    </tr>\n    <tr>\n      <th>1</th>\n      <td>-1.649456</td>\n      <td>-6.149721</td>\n    </tr>\n    <tr>\n      <th>2</th>\n      <td>-6.903922</td>\n      <td>-9.298318</td>\n    </tr>\n  </tbody>\n</table>\n</div>"
     },
     "metadata": {},
     "execution_count": 36
    }
   ],
   "source": [
    "pd.concat([df1.reset_index(drop= True),df2.reset_index(drop= True)])"
   ]
  },
  {
   "cell_type": "markdown",
   "metadata": {},
   "source": [
    "## append concatena dos dataframes"
   ]
  },
  {
   "cell_type": "code",
   "execution_count": 38,
   "metadata": {},
   "outputs": [
    {
     "output_type": "execute_result",
     "data": {
      "text/plain": "          a         b\n0  2.984786  3.870989\n1  4.216217  5.411019\n2  8.472902  3.498952\n0 -0.870076 -8.699182\n1 -1.649456 -6.149721\n2 -6.903922 -9.298318",
      "text/html": "<div>\n<style scoped>\n    .dataframe tbody tr th:only-of-type {\n        vertical-align: middle;\n    }\n\n    .dataframe tbody tr th {\n        vertical-align: top;\n    }\n\n    .dataframe thead th {\n        text-align: right;\n    }\n</style>\n<table border=\"1\" class=\"dataframe\">\n  <thead>\n    <tr style=\"text-align: right;\">\n      <th></th>\n      <th>a</th>\n      <th>b</th>\n    </tr>\n  </thead>\n  <tbody>\n    <tr>\n      <th>0</th>\n      <td>2.984786</td>\n      <td>3.870989</td>\n    </tr>\n    <tr>\n      <th>1</th>\n      <td>4.216217</td>\n      <td>5.411019</td>\n    </tr>\n    <tr>\n      <th>2</th>\n      <td>8.472902</td>\n      <td>3.498952</td>\n    </tr>\n    <tr>\n      <th>0</th>\n      <td>-0.870076</td>\n      <td>-8.699182</td>\n    </tr>\n    <tr>\n      <th>1</th>\n      <td>-1.649456</td>\n      <td>-6.149721</td>\n    </tr>\n    <tr>\n      <th>2</th>\n      <td>-6.903922</td>\n      <td>-9.298318</td>\n    </tr>\n  </tbody>\n</table>\n</div>"
     },
     "metadata": {},
     "execution_count": 38
    }
   ],
   "source": [
    "df1.append(df2)"
   ]
  },
  {
   "cell_type": "markdown",
   "metadata": {},
   "source": [
    "## Transpone el dataframe"
   ]
  },
  {
   "cell_type": "code",
   "execution_count": 39,
   "metadata": {},
   "outputs": [
    {
     "output_type": "execute_result",
     "data": {
      "text/plain": "          0         1         2\na  2.984786  4.216217  8.472902\nb  3.870989  5.411019  3.498952",
      "text/html": "<div>\n<style scoped>\n    .dataframe tbody tr th:only-of-type {\n        vertical-align: middle;\n    }\n\n    .dataframe tbody tr th {\n        vertical-align: top;\n    }\n\n    .dataframe thead th {\n        text-align: right;\n    }\n</style>\n<table border=\"1\" class=\"dataframe\">\n  <thead>\n    <tr style=\"text-align: right;\">\n      <th></th>\n      <th>0</th>\n      <th>1</th>\n      <th>2</th>\n    </tr>\n  </thead>\n  <tbody>\n    <tr>\n      <th>a</th>\n      <td>2.984786</td>\n      <td>4.216217</td>\n      <td>8.472902</td>\n    </tr>\n    <tr>\n      <th>b</th>\n      <td>3.870989</td>\n      <td>5.411019</td>\n      <td>3.498952</td>\n    </tr>\n  </tbody>\n</table>\n</div>"
     },
     "metadata": {},
     "execution_count": 39
    }
   ],
   "source": [
    "df1.T"
   ]
  },
  {
   "cell_type": "code",
   "execution_count": 40,
   "metadata": {},
   "outputs": [
    {
     "output_type": "execute_result",
     "data": {
      "text/plain": "array([ 0,  8, 30,  0])"
     },
     "metadata": {},
     "execution_count": 40
    }
   ],
   "source": [
    "np.array([10,8,5,0]) * np.array([0,1,6,12])"
   ]
  },
  {
   "cell_type": "markdown",
   "metadata": {},
   "source": [
    "## Borrar columnas"
   ]
  },
  {
   "cell_type": "code",
   "execution_count": 42,
   "metadata": {},
   "outputs": [
    {
     "output_type": "execute_result",
     "data": {
      "text/plain": "          b\n0  3.870989\n1  5.411019\n2  3.498952",
      "text/html": "<div>\n<style scoped>\n    .dataframe tbody tr th:only-of-type {\n        vertical-align: middle;\n    }\n\n    .dataframe tbody tr th {\n        vertical-align: top;\n    }\n\n    .dataframe thead th {\n        text-align: right;\n    }\n</style>\n<table border=\"1\" class=\"dataframe\">\n  <thead>\n    <tr style=\"text-align: right;\">\n      <th></th>\n      <th>b</th>\n    </tr>\n  </thead>\n  <tbody>\n    <tr>\n      <th>0</th>\n      <td>3.870989</td>\n    </tr>\n    <tr>\n      <th>1</th>\n      <td>5.411019</td>\n    </tr>\n    <tr>\n      <th>2</th>\n      <td>3.498952</td>\n    </tr>\n  </tbody>\n</table>\n</div>"
     },
     "metadata": {},
     "execution_count": 42
    }
   ],
   "source": [
    "df1.drop(columns=[\"a\"])"
   ]
  },
  {
   "cell_type": "code",
   "execution_count": 120,
   "metadata": {},
   "outputs": [
    {
     "output_type": "execute_result",
     "data": {
      "text/plain": "     X   W   Y Mix\ny2  x0  w0  y0  y2\ny3  x1  w1  y1  y3\na2  x2  w2  y2  a2\na3  x3  w3  y3  a3",
      "text/html": "<div>\n<style scoped>\n    .dataframe tbody tr th:only-of-type {\n        vertical-align: middle;\n    }\n\n    .dataframe tbody tr th {\n        vertical-align: top;\n    }\n\n    .dataframe thead th {\n        text-align: right;\n    }\n</style>\n<table border=\"1\" class=\"dataframe\">\n  <thead>\n    <tr style=\"text-align: right;\">\n      <th></th>\n      <th>X</th>\n      <th>W</th>\n      <th>Y</th>\n      <th>Mix</th>\n    </tr>\n  </thead>\n  <tbody>\n    <tr>\n      <th>y2</th>\n      <td>x0</td>\n      <td>w0</td>\n      <td>y0</td>\n      <td>y2</td>\n    </tr>\n    <tr>\n      <th>y3</th>\n      <td>x1</td>\n      <td>w1</td>\n      <td>y1</td>\n      <td>y3</td>\n    </tr>\n    <tr>\n      <th>a2</th>\n      <td>x2</td>\n      <td>w2</td>\n      <td>y2</td>\n      <td>a2</td>\n    </tr>\n    <tr>\n      <th>a3</th>\n      <td>x3</td>\n      <td>w3</td>\n      <td>y3</td>\n      <td>a3</td>\n    </tr>\n  </tbody>\n</table>\n</div>"
     },
     "metadata": {},
     "execution_count": 120
    }
   ],
   "source": [
    "df_left = pd.DataFrame(\n",
    "    {'X':['x0','x1','x2','x3'],\n",
    "    'W':['w0','w1','w2','w3'],\n",
    "    'Y':['y0','y1','y2','y3'],\n",
    "    'Mix':['y2','y3','a2','a3']},\n",
    "    index = ['y2','y3','a2','a3'])\n",
    "df_left"
   ]
  },
  {
   "cell_type": "code",
   "execution_count": 119,
   "metadata": {},
   "outputs": [
    {
     "output_type": "execute_result",
     "data": {
      "text/plain": "    Z   A   Y\n2  z2  a2  y2\n3  z3  a3  y3\n4  z4  a4  y4\n5  z5  a5  y5",
      "text/html": "<div>\n<style scoped>\n    .dataframe tbody tr th:only-of-type {\n        vertical-align: middle;\n    }\n\n    .dataframe tbody tr th {\n        vertical-align: top;\n    }\n\n    .dataframe thead th {\n        text-align: right;\n    }\n</style>\n<table border=\"1\" class=\"dataframe\">\n  <thead>\n    <tr style=\"text-align: right;\">\n      <th></th>\n      <th>Z</th>\n      <th>A</th>\n      <th>Y</th>\n    </tr>\n  </thead>\n  <tbody>\n    <tr>\n      <th>2</th>\n      <td>z2</td>\n      <td>a2</td>\n      <td>y2</td>\n    </tr>\n    <tr>\n      <th>3</th>\n      <td>z3</td>\n      <td>a3</td>\n      <td>y3</td>\n    </tr>\n    <tr>\n      <th>4</th>\n      <td>z4</td>\n      <td>a4</td>\n      <td>y4</td>\n    </tr>\n    <tr>\n      <th>5</th>\n      <td>z5</td>\n      <td>a5</td>\n      <td>y5</td>\n    </tr>\n  </tbody>\n</table>\n</div>"
     },
     "metadata": {},
     "execution_count": 119
    }
   ],
   "source": [
    "df_right = pd.DataFrame(\n",
    "    {'Z':['z2','z3','z4','z5'],\n",
    "     'A':['a2','a3','a4','a5'],\n",
    "     'Y':['y2','y3','y4','y5']},\n",
    "    index = [2,3,4,5])\n",
    "df_right"
   ]
  },
  {
   "cell_type": "markdown",
   "metadata": {},
   "source": [
    "## para realizar la union de dos dataframes se utiliza merge. Se debe especificar el tipo de join en el parametro how, y con el parametro on se indica porrque columna se realiza el join"
   ]
  },
  {
   "cell_type": "code",
   "execution_count": 105,
   "metadata": {},
   "outputs": [
    {
     "output_type": "execute_result",
     "data": {
      "text/plain": "    X   W   Y Mix   Z   A\n0  x2  w2  y2  a2  z2  a2\n1  x3  w3  y3  a3  z3  a3",
      "text/html": "<div>\n<style scoped>\n    .dataframe tbody tr th:only-of-type {\n        vertical-align: middle;\n    }\n\n    .dataframe tbody tr th {\n        vertical-align: top;\n    }\n\n    .dataframe thead th {\n        text-align: right;\n    }\n</style>\n<table border=\"1\" class=\"dataframe\">\n  <thead>\n    <tr style=\"text-align: right;\">\n      <th></th>\n      <th>X</th>\n      <th>W</th>\n      <th>Y</th>\n      <th>Mix</th>\n      <th>Z</th>\n      <th>A</th>\n    </tr>\n  </thead>\n  <tbody>\n    <tr>\n      <th>0</th>\n      <td>x2</td>\n      <td>w2</td>\n      <td>y2</td>\n      <td>a2</td>\n      <td>z2</td>\n      <td>a2</td>\n    </tr>\n    <tr>\n      <th>1</th>\n      <td>x3</td>\n      <td>w3</td>\n      <td>y3</td>\n      <td>a3</td>\n      <td>z3</td>\n      <td>a3</td>\n    </tr>\n  </tbody>\n</table>\n</div>"
     },
     "metadata": {},
     "execution_count": 105
    }
   ],
   "source": [
    "pd.merge(df_left,df_right,how=\"inner\",on =\"Y\")"
   ]
  },
  {
   "cell_type": "code",
   "execution_count": 111,
   "metadata": {},
   "outputs": [
    {
     "output_type": "execute_result",
     "data": {
      "text/plain": "    X   W   Y Mix    Z    A\n0  x0  w0  y0  y2  NaN  NaN\n1  x1  w1  y1  y3  NaN  NaN\n2  x2  w2  y2  a2   z2   a2\n3  x3  w3  y3  a3   z3   a3",
      "text/html": "<div>\n<style scoped>\n    .dataframe tbody tr th:only-of-type {\n        vertical-align: middle;\n    }\n\n    .dataframe tbody tr th {\n        vertical-align: top;\n    }\n\n    .dataframe thead th {\n        text-align: right;\n    }\n</style>\n<table border=\"1\" class=\"dataframe\">\n  <thead>\n    <tr style=\"text-align: right;\">\n      <th></th>\n      <th>X</th>\n      <th>W</th>\n      <th>Y</th>\n      <th>Mix</th>\n      <th>Z</th>\n      <th>A</th>\n    </tr>\n  </thead>\n  <tbody>\n    <tr>\n      <th>0</th>\n      <td>x0</td>\n      <td>w0</td>\n      <td>y0</td>\n      <td>y2</td>\n      <td>NaN</td>\n      <td>NaN</td>\n    </tr>\n    <tr>\n      <th>1</th>\n      <td>x1</td>\n      <td>w1</td>\n      <td>y1</td>\n      <td>y3</td>\n      <td>NaN</td>\n      <td>NaN</td>\n    </tr>\n    <tr>\n      <th>2</th>\n      <td>x2</td>\n      <td>w2</td>\n      <td>y2</td>\n      <td>a2</td>\n      <td>z2</td>\n      <td>a2</td>\n    </tr>\n    <tr>\n      <th>3</th>\n      <td>x3</td>\n      <td>w3</td>\n      <td>y3</td>\n      <td>a3</td>\n      <td>z3</td>\n      <td>a3</td>\n    </tr>\n  </tbody>\n</table>\n</div>"
     },
     "metadata": {},
     "execution_count": 111
    }
   ],
   "source": [
    "pd.merge(df_left,df_right,how=\"left\",on =\"Y\")"
   ]
  },
  {
   "cell_type": "code",
   "execution_count": 112,
   "metadata": {},
   "outputs": [
    {
     "output_type": "execute_result",
     "data": {
      "text/plain": "     X    W   Y  Mix   Z   A\n0   x2   w2  y2   a2  z2  a2\n1   x3   w3  y3   a3  z3  a3\n2  NaN  NaN  y4  NaN  z4  a4\n3  NaN  NaN  y5  NaN  z5  a5",
      "text/html": "<div>\n<style scoped>\n    .dataframe tbody tr th:only-of-type {\n        vertical-align: middle;\n    }\n\n    .dataframe tbody tr th {\n        vertical-align: top;\n    }\n\n    .dataframe thead th {\n        text-align: right;\n    }\n</style>\n<table border=\"1\" class=\"dataframe\">\n  <thead>\n    <tr style=\"text-align: right;\">\n      <th></th>\n      <th>X</th>\n      <th>W</th>\n      <th>Y</th>\n      <th>Mix</th>\n      <th>Z</th>\n      <th>A</th>\n    </tr>\n  </thead>\n  <tbody>\n    <tr>\n      <th>0</th>\n      <td>x2</td>\n      <td>w2</td>\n      <td>y2</td>\n      <td>a2</td>\n      <td>z2</td>\n      <td>a2</td>\n    </tr>\n    <tr>\n      <th>1</th>\n      <td>x3</td>\n      <td>w3</td>\n      <td>y3</td>\n      <td>a3</td>\n      <td>z3</td>\n      <td>a3</td>\n    </tr>\n    <tr>\n      <th>2</th>\n      <td>NaN</td>\n      <td>NaN</td>\n      <td>y4</td>\n      <td>NaN</td>\n      <td>z4</td>\n      <td>a4</td>\n    </tr>\n    <tr>\n      <th>3</th>\n      <td>NaN</td>\n      <td>NaN</td>\n      <td>y5</td>\n      <td>NaN</td>\n      <td>z5</td>\n      <td>a5</td>\n    </tr>\n  </tbody>\n</table>\n</div>"
     },
     "metadata": {},
     "execution_count": 112
    }
   ],
   "source": [
    "pd.merge(df_left,df_right,how=\"right\",on =\"Y\")"
   ]
  },
  {
   "cell_type": "markdown",
   "metadata": {},
   "source": [
    "## La union se puede hacer por varias columnas"
   ]
  },
  {
   "cell_type": "code",
   "execution_count": 123,
   "metadata": {},
   "outputs": [
    {
     "output_type": "execute_result",
     "data": {
      "text/plain": "    X   W   Y Mix   Z   A\n0  x2  w2  y2  a2  z2  a2\n1  x3  w3  y3  a3  z3  a3",
      "text/html": "<div>\n<style scoped>\n    .dataframe tbody tr th:only-of-type {\n        vertical-align: middle;\n    }\n\n    .dataframe tbody tr th {\n        vertical-align: top;\n    }\n\n    .dataframe thead th {\n        text-align: right;\n    }\n</style>\n<table border=\"1\" class=\"dataframe\">\n  <thead>\n    <tr style=\"text-align: right;\">\n      <th></th>\n      <th>X</th>\n      <th>W</th>\n      <th>Y</th>\n      <th>Mix</th>\n      <th>Z</th>\n      <th>A</th>\n    </tr>\n  </thead>\n  <tbody>\n    <tr>\n      <th>0</th>\n      <td>x2</td>\n      <td>w2</td>\n      <td>y2</td>\n      <td>a2</td>\n      <td>z2</td>\n      <td>a2</td>\n    </tr>\n    <tr>\n      <th>1</th>\n      <td>x3</td>\n      <td>w3</td>\n      <td>y3</td>\n      <td>a3</td>\n      <td>z3</td>\n      <td>a3</td>\n    </tr>\n  </tbody>\n</table>\n</div>"
     },
     "metadata": {},
     "execution_count": 123
    }
   ],
   "source": [
    "pd.merge(df_left,df_right,how=\"inner\",on=['Y'])"
   ]
  },
  {
   "cell_type": "code",
   "execution_count": 124,
   "metadata": {},
   "outputs": [
    {
     "output_type": "execute_result",
     "data": {
      "text/plain": "nan"
     },
     "metadata": {},
     "execution_count": 124
    }
   ],
   "source": [
    "np.nan"
   ]
  },
  {
   "cell_type": "code",
   "execution_count": 125,
   "metadata": {},
   "outputs": [
    {
     "output_type": "execute_result",
     "data": {
      "text/plain": "nan"
     },
     "metadata": {},
     "execution_count": 125
    }
   ],
   "source": [
    "np.nan + 10"
   ]
  },
  {
   "cell_type": "code",
   "execution_count": 127,
   "metadata": {},
   "outputs": [
    {
     "output_type": "execute_result",
     "data": {
      "text/plain": "False"
     },
     "metadata": {},
     "execution_count": 127
    }
   ],
   "source": [
    "np.nan > 0"
   ]
  },
  {
   "cell_type": "code",
   "execution_count": 128,
   "metadata": {},
   "outputs": [],
   "source": [
    "pd.options.mode.use_inf_as_na = True"
   ]
  },
  {
   "cell_type": "code",
   "execution_count": 129,
   "metadata": {},
   "outputs": [
    {
     "output_type": "execute_result",
     "data": {
      "text/plain": "<NA>"
     },
     "metadata": {},
     "execution_count": 129
    }
   ],
   "source": [
    "pd.NA + \"Hola\""
   ]
  },
  {
   "cell_type": "markdown",
   "metadata": {},
   "source": [
    "## Para conocer si un objeto es nulo se utiliza isnull"
   ]
  },
  {
   "cell_type": "code",
   "execution_count": 130,
   "metadata": {},
   "outputs": [
    {
     "output_type": "execute_result",
     "data": {
      "text/plain": "       a      b\n0  False  False\n1  False  False\n2  False  False",
      "text/html": "<div>\n<style scoped>\n    .dataframe tbody tr th:only-of-type {\n        vertical-align: middle;\n    }\n\n    .dataframe tbody tr th {\n        vertical-align: top;\n    }\n\n    .dataframe thead th {\n        text-align: right;\n    }\n</style>\n<table border=\"1\" class=\"dataframe\">\n  <thead>\n    <tr style=\"text-align: right;\">\n      <th></th>\n      <th>a</th>\n      <th>b</th>\n    </tr>\n  </thead>\n  <tbody>\n    <tr>\n      <th>0</th>\n      <td>False</td>\n      <td>False</td>\n    </tr>\n    <tr>\n      <th>1</th>\n      <td>False</td>\n      <td>False</td>\n    </tr>\n    <tr>\n      <th>2</th>\n      <td>False</td>\n      <td>False</td>\n    </tr>\n  </tbody>\n</table>\n</div>"
     },
     "metadata": {},
     "execution_count": 130
    }
   ],
   "source": [
    "df1.isnull()"
   ]
  },
  {
   "cell_type": "markdown",
   "metadata": {},
   "source": [
    "## Saber el numero de variables nulas por columna"
   ]
  },
  {
   "cell_type": "code",
   "execution_count": 131,
   "metadata": {},
   "outputs": [
    {
     "output_type": "execute_result",
     "data": {
      "text/plain": "a    0\nb    0\ndtype: int64"
     },
     "metadata": {},
     "execution_count": 131
    }
   ],
   "source": [
    "df1.isnull().sum()"
   ]
  },
  {
   "cell_type": "code",
   "execution_count": 132,
   "metadata": {},
   "outputs": [
    {
     "output_type": "execute_result",
     "data": {
      "text/plain": "          a         b\n0  2.984786  3.870989\n1  4.216217  5.411019\n2  8.472902  3.498952",
      "text/html": "<div>\n<style scoped>\n    .dataframe tbody tr th:only-of-type {\n        vertical-align: middle;\n    }\n\n    .dataframe tbody tr th {\n        vertical-align: top;\n    }\n\n    .dataframe thead th {\n        text-align: right;\n    }\n</style>\n<table border=\"1\" class=\"dataframe\">\n  <thead>\n    <tr style=\"text-align: right;\">\n      <th></th>\n      <th>a</th>\n      <th>b</th>\n    </tr>\n  </thead>\n  <tbody>\n    <tr>\n      <th>0</th>\n      <td>2.984786</td>\n      <td>3.870989</td>\n    </tr>\n    <tr>\n      <th>1</th>\n      <td>4.216217</td>\n      <td>5.411019</td>\n    </tr>\n    <tr>\n      <th>2</th>\n      <td>8.472902</td>\n      <td>3.498952</td>\n    </tr>\n  </tbody>\n</table>\n</div>"
     },
     "metadata": {},
     "execution_count": 132
    }
   ],
   "source": [
    "df1"
   ]
  },
  {
   "cell_type": "markdown",
   "metadata": {},
   "source": [
    "## Para  llenar los valores nulos se utiliza fillna"
   ]
  },
  {
   "cell_type": "code",
   "execution_count": 134,
   "metadata": {},
   "outputs": [
    {
     "output_type": "execute_result",
     "data": {
      "text/plain": "          a         b\n0  2.984786  3.870989\n1  4.216217  5.411019\n2  8.472902  3.498952",
      "text/html": "<div>\n<style scoped>\n    .dataframe tbody tr th:only-of-type {\n        vertical-align: middle;\n    }\n\n    .dataframe tbody tr th {\n        vertical-align: top;\n    }\n\n    .dataframe thead th {\n        text-align: right;\n    }\n</style>\n<table border=\"1\" class=\"dataframe\">\n  <thead>\n    <tr style=\"text-align: right;\">\n      <th></th>\n      <th>a</th>\n      <th>b</th>\n    </tr>\n  </thead>\n  <tbody>\n    <tr>\n      <th>0</th>\n      <td>2.984786</td>\n      <td>3.870989</td>\n    </tr>\n    <tr>\n      <th>1</th>\n      <td>4.216217</td>\n      <td>5.411019</td>\n    </tr>\n    <tr>\n      <th>2</th>\n      <td>8.472902</td>\n      <td>3.498952</td>\n    </tr>\n  </tbody>\n</table>\n</div>"
     },
     "metadata": {},
     "execution_count": 134
    }
   ],
   "source": [
    "df1.fillna(0)"
   ]
  },
  {
   "cell_type": "code",
   "execution_count": 135,
   "metadata": {},
   "outputs": [
    {
     "output_type": "execute_result",
     "data": {
      "text/plain": "          a         b\n0  2.984786  3.870989\n1  4.216217  5.411019\n2  8.472902  3.498952",
      "text/html": "<div>\n<style scoped>\n    .dataframe tbody tr th:only-of-type {\n        vertical-align: middle;\n    }\n\n    .dataframe tbody tr th {\n        vertical-align: top;\n    }\n\n    .dataframe thead th {\n        text-align: right;\n    }\n</style>\n<table border=\"1\" class=\"dataframe\">\n  <thead>\n    <tr style=\"text-align: right;\">\n      <th></th>\n      <th>a</th>\n      <th>b</th>\n    </tr>\n  </thead>\n  <tbody>\n    <tr>\n      <th>0</th>\n      <td>2.984786</td>\n      <td>3.870989</td>\n    </tr>\n    <tr>\n      <th>1</th>\n      <td>4.216217</td>\n      <td>5.411019</td>\n    </tr>\n    <tr>\n      <th>2</th>\n      <td>8.472902</td>\n      <td>3.498952</td>\n    </tr>\n  </tbody>\n</table>\n</div>"
     },
     "metadata": {},
     "execution_count": 135
    }
   ],
   "source": [
    "df1.fillna(df1.median())"
   ]
  },
  {
   "cell_type": "markdown",
   "metadata": {},
   "source": [
    "## Para agrupar se utiliza la funcion groupby"
   ]
  },
  {
   "cell_type": "code",
   "execution_count": 45,
   "metadata": {},
   "outputs": [],
   "source": [
    "diamonds = pd.read_csv(\"diamonds.csv\")\n"
   ]
  },
  {
   "cell_type": "code",
   "execution_count": 46,
   "metadata": {},
   "outputs": [
    {
     "output_type": "execute_result",
     "data": {
      "text/plain": "              carat      depth      table        price         x         y  \\\ncut                                                                          \nFair       1.046078  64.045743  59.048850  4357.500932  6.250777  6.186495   \nGood       0.848711  62.364545  58.693778  3926.403509  5.840275  5.852277   \nIdeal      0.702759  61.709500  55.951754  3456.941201  5.507898  5.520224   \nPremium    0.891409  61.265007  58.746328  4579.684543  5.973840  5.944843   \nVery Good  0.806365  61.818152  57.956560  3981.664101  5.741171  5.770503   \n\n                  z      volume   density  \ncut                                        \nFair       3.985245  165.053067  0.001264  \nGood       3.642477  136.368452  0.001240  \nIdeal      3.401922  115.410977  0.001215  \nPremium    3.650036  145.167917  0.001229  \nVery Good  3.560096  131.010566  0.001228  ",
      "text/html": "<div>\n<style scoped>\n    .dataframe tbody tr th:only-of-type {\n        vertical-align: middle;\n    }\n\n    .dataframe tbody tr th {\n        vertical-align: top;\n    }\n\n    .dataframe thead th {\n        text-align: right;\n    }\n</style>\n<table border=\"1\" class=\"dataframe\">\n  <thead>\n    <tr style=\"text-align: right;\">\n      <th></th>\n      <th>carat</th>\n      <th>depth</th>\n      <th>table</th>\n      <th>price</th>\n      <th>x</th>\n      <th>y</th>\n      <th>z</th>\n      <th>volume</th>\n      <th>density</th>\n    </tr>\n    <tr>\n      <th>cut</th>\n      <th></th>\n      <th></th>\n      <th></th>\n      <th></th>\n      <th></th>\n      <th></th>\n      <th></th>\n      <th></th>\n      <th></th>\n    </tr>\n  </thead>\n  <tbody>\n    <tr>\n      <th>Fair</th>\n      <td>1.046078</td>\n      <td>64.045743</td>\n      <td>59.048850</td>\n      <td>4357.500932</td>\n      <td>6.250777</td>\n      <td>6.186495</td>\n      <td>3.985245</td>\n      <td>165.053067</td>\n      <td>0.001264</td>\n    </tr>\n    <tr>\n      <th>Good</th>\n      <td>0.848711</td>\n      <td>62.364545</td>\n      <td>58.693778</td>\n      <td>3926.403509</td>\n      <td>5.840275</td>\n      <td>5.852277</td>\n      <td>3.642477</td>\n      <td>136.368452</td>\n      <td>0.001240</td>\n    </tr>\n    <tr>\n      <th>Ideal</th>\n      <td>0.702759</td>\n      <td>61.709500</td>\n      <td>55.951754</td>\n      <td>3456.941201</td>\n      <td>5.507898</td>\n      <td>5.520224</td>\n      <td>3.401922</td>\n      <td>115.410977</td>\n      <td>0.001215</td>\n    </tr>\n    <tr>\n      <th>Premium</th>\n      <td>0.891409</td>\n      <td>61.265007</td>\n      <td>58.746328</td>\n      <td>4579.684543</td>\n      <td>5.973840</td>\n      <td>5.944843</td>\n      <td>3.650036</td>\n      <td>145.167917</td>\n      <td>0.001229</td>\n    </tr>\n    <tr>\n      <th>Very Good</th>\n      <td>0.806365</td>\n      <td>61.818152</td>\n      <td>57.956560</td>\n      <td>3981.664101</td>\n      <td>5.741171</td>\n      <td>5.770503</td>\n      <td>3.560096</td>\n      <td>131.010566</td>\n      <td>0.001228</td>\n    </tr>\n  </tbody>\n</table>\n</div>"
     },
     "metadata": {},
     "execution_count": 46
    }
   ],
   "source": [
    "diamonds.groupby(\"cut\").mean()"
   ]
  },
  {
   "cell_type": "markdown",
   "metadata": {},
   "source": [
    "## se realiza la agrupación y se especifica una columna"
   ]
  },
  {
   "cell_type": "code",
   "execution_count": 47,
   "metadata": {},
   "outputs": [
    {
     "output_type": "execute_result",
     "data": {
      "text/plain": "cut\nFair         1.046078\nGood         0.848711\nIdeal        0.702759\nPremium      0.891409\nVery Good    0.806365\nName: carat, dtype: float64"
     },
     "metadata": {},
     "execution_count": 47
    }
   ],
   "source": [
    "diamonds.groupby(\"cut\")[\"carat\"].mean()"
   ]
  },
  {
   "cell_type": "markdown",
   "metadata": {},
   "source": [
    "## Para agrupar por varias columnas"
   ]
  },
  {
   "cell_type": "code",
   "execution_count": 48,
   "metadata": {},
   "outputs": [
    {
     "output_type": "execute_result",
     "data": {
      "text/plain": "cut        color\nFair       D        4291.061350\n           E        3682.312500\n           F        3827.003205\n           G        4232.412141\n           H        5135.683168\n           I        4685.445714\n           J        4975.655462\nGood       D        3405.382175\n           E        3423.644159\n           F        3498.761852\n           G        4105.907940\n           H        4276.254986\n           I        5078.532567\n           J        4574.172638\nIdeal      D        2629.094566\n           E        2597.550090\n           F        3374.526536\n           G        3718.469070\n           H        3889.334831\n           I        4451.970377\n           J        4918.186384\nPremium    D        3623.767790\n           E        3538.914420\n           F        4325.099571\n           G        4502.207806\n           H        5198.354140\n           I        5939.557814\n           J        6294.591584\nVery Good  D        3470.467284\n           E        3214.652083\n           F        3778.820240\n           G        3872.753806\n           H        4535.059243\n           I        5255.879568\n           J        5103.513274\nName: price, dtype: float64"
     },
     "metadata": {},
     "execution_count": 48
    }
   ],
   "source": [
    "diamonds.groupby([\"cut\",\"color\"])[\"price\"].mean()"
   ]
  },
  {
   "cell_type": "markdown",
   "metadata": {},
   "source": [
    "## Para aplicar funciones al agrupamiento"
   ]
  },
  {
   "cell_type": "code",
   "execution_count": 49,
   "metadata": {},
   "outputs": [
    {
     "output_type": "execute_result",
     "data": {
      "text/plain": "                 min         mean    max\ncut       color                         \nFair      D      536  4291.061350  16386\n          E      337  3682.312500  15584\n          F      496  3827.003205  17995\n          G      369  4232.412141  18574\n          H      659  5135.683168  18565\n          I      735  4685.445714  18242\n          J      416  4975.655462  18531\nGood      D      361  3405.382175  18468\n          E      327  3423.644159  18236\n          F      357  3498.761852  18686\n          G      394  4105.907940  18625\n          H      368  4276.254986  18640\n          I      351  5078.532567  18707\n          J      335  4574.172638  18325\nIdeal     D      367  2629.094566  18693\n          E      326  2597.550090  18729\n          F      408  3374.526536  18780\n          G      361  3718.469070  18806\n          H      357  3889.334831  18760\n          I      348  4451.970377  18779\n          J      340  4918.186384  18508\nPremium   D      367  3623.767790  18575\n          E      326  3538.914420  18477\n          F      342  4325.099571  18791\n          G      382  4502.207806  18741\n          H      368  5198.354140  18795\n          I      334  5939.557814  18823\n          J      363  6294.591584  18710\nVery Good D      357  3470.467284  18542\n          E      352  3214.652083  18731\n          F      357  3778.820240  18777\n          G      354  3872.753806  18818\n          H      337  4535.059243  18803\n          I      336  5255.879568  18500\n          J      336  5103.513274  18430",
      "text/html": "<div>\n<style scoped>\n    .dataframe tbody tr th:only-of-type {\n        vertical-align: middle;\n    }\n\n    .dataframe tbody tr th {\n        vertical-align: top;\n    }\n\n    .dataframe thead th {\n        text-align: right;\n    }\n</style>\n<table border=\"1\" class=\"dataframe\">\n  <thead>\n    <tr style=\"text-align: right;\">\n      <th></th>\n      <th></th>\n      <th>min</th>\n      <th>mean</th>\n      <th>max</th>\n    </tr>\n    <tr>\n      <th>cut</th>\n      <th>color</th>\n      <th></th>\n      <th></th>\n      <th></th>\n    </tr>\n  </thead>\n  <tbody>\n    <tr>\n      <th rowspan=\"7\" valign=\"top\">Fair</th>\n      <th>D</th>\n      <td>536</td>\n      <td>4291.061350</td>\n      <td>16386</td>\n    </tr>\n    <tr>\n      <th>E</th>\n      <td>337</td>\n      <td>3682.312500</td>\n      <td>15584</td>\n    </tr>\n    <tr>\n      <th>F</th>\n      <td>496</td>\n      <td>3827.003205</td>\n      <td>17995</td>\n    </tr>\n    <tr>\n      <th>G</th>\n      <td>369</td>\n      <td>4232.412141</td>\n      <td>18574</td>\n    </tr>\n    <tr>\n      <th>H</th>\n      <td>659</td>\n      <td>5135.683168</td>\n      <td>18565</td>\n    </tr>\n    <tr>\n      <th>I</th>\n      <td>735</td>\n      <td>4685.445714</td>\n      <td>18242</td>\n    </tr>\n    <tr>\n      <th>J</th>\n      <td>416</td>\n      <td>4975.655462</td>\n      <td>18531</td>\n    </tr>\n    <tr>\n      <th rowspan=\"7\" valign=\"top\">Good</th>\n      <th>D</th>\n      <td>361</td>\n      <td>3405.382175</td>\n      <td>18468</td>\n    </tr>\n    <tr>\n      <th>E</th>\n      <td>327</td>\n      <td>3423.644159</td>\n      <td>18236</td>\n    </tr>\n    <tr>\n      <th>F</th>\n      <td>357</td>\n      <td>3498.761852</td>\n      <td>18686</td>\n    </tr>\n    <tr>\n      <th>G</th>\n      <td>394</td>\n      <td>4105.907940</td>\n      <td>18625</td>\n    </tr>\n    <tr>\n      <th>H</th>\n      <td>368</td>\n      <td>4276.254986</td>\n      <td>18640</td>\n    </tr>\n    <tr>\n      <th>I</th>\n      <td>351</td>\n      <td>5078.532567</td>\n      <td>18707</td>\n    </tr>\n    <tr>\n      <th>J</th>\n      <td>335</td>\n      <td>4574.172638</td>\n      <td>18325</td>\n    </tr>\n    <tr>\n      <th rowspan=\"7\" valign=\"top\">Ideal</th>\n      <th>D</th>\n      <td>367</td>\n      <td>2629.094566</td>\n      <td>18693</td>\n    </tr>\n    <tr>\n      <th>E</th>\n      <td>326</td>\n      <td>2597.550090</td>\n      <td>18729</td>\n    </tr>\n    <tr>\n      <th>F</th>\n      <td>408</td>\n      <td>3374.526536</td>\n      <td>18780</td>\n    </tr>\n    <tr>\n      <th>G</th>\n      <td>361</td>\n      <td>3718.469070</td>\n      <td>18806</td>\n    </tr>\n    <tr>\n      <th>H</th>\n      <td>357</td>\n      <td>3889.334831</td>\n      <td>18760</td>\n    </tr>\n    <tr>\n      <th>I</th>\n      <td>348</td>\n      <td>4451.970377</td>\n      <td>18779</td>\n    </tr>\n    <tr>\n      <th>J</th>\n      <td>340</td>\n      <td>4918.186384</td>\n      <td>18508</td>\n    </tr>\n    <tr>\n      <th rowspan=\"7\" valign=\"top\">Premium</th>\n      <th>D</th>\n      <td>367</td>\n      <td>3623.767790</td>\n      <td>18575</td>\n    </tr>\n    <tr>\n      <th>E</th>\n      <td>326</td>\n      <td>3538.914420</td>\n      <td>18477</td>\n    </tr>\n    <tr>\n      <th>F</th>\n      <td>342</td>\n      <td>4325.099571</td>\n      <td>18791</td>\n    </tr>\n    <tr>\n      <th>G</th>\n      <td>382</td>\n      <td>4502.207806</td>\n      <td>18741</td>\n    </tr>\n    <tr>\n      <th>H</th>\n      <td>368</td>\n      <td>5198.354140</td>\n      <td>18795</td>\n    </tr>\n    <tr>\n      <th>I</th>\n      <td>334</td>\n      <td>5939.557814</td>\n      <td>18823</td>\n    </tr>\n    <tr>\n      <th>J</th>\n      <td>363</td>\n      <td>6294.591584</td>\n      <td>18710</td>\n    </tr>\n    <tr>\n      <th rowspan=\"7\" valign=\"top\">Very Good</th>\n      <th>D</th>\n      <td>357</td>\n      <td>3470.467284</td>\n      <td>18542</td>\n    </tr>\n    <tr>\n      <th>E</th>\n      <td>352</td>\n      <td>3214.652083</td>\n      <td>18731</td>\n    </tr>\n    <tr>\n      <th>F</th>\n      <td>357</td>\n      <td>3778.820240</td>\n      <td>18777</td>\n    </tr>\n    <tr>\n      <th>G</th>\n      <td>354</td>\n      <td>3872.753806</td>\n      <td>18818</td>\n    </tr>\n    <tr>\n      <th>H</th>\n      <td>337</td>\n      <td>4535.059243</td>\n      <td>18803</td>\n    </tr>\n    <tr>\n      <th>I</th>\n      <td>336</td>\n      <td>5255.879568</td>\n      <td>18500</td>\n    </tr>\n    <tr>\n      <th>J</th>\n      <td>336</td>\n      <td>5103.513274</td>\n      <td>18430</td>\n    </tr>\n  </tbody>\n</table>\n</div>"
     },
     "metadata": {},
     "execution_count": 49
    }
   ],
   "source": [
    "diamonds.groupby([\"cut\",\"color\"])[\"price\"].aggregate(['min',np.mean,max])"
   ]
  },
  {
   "cell_type": "code",
   "execution_count": 51,
   "metadata": {},
   "outputs": [],
   "source": [
    "def mean_kilo(x):\n",
    "    return np.mean(x)/1000"
   ]
  },
  {
   "cell_type": "markdown",
   "metadata": {},
   "source": [
    "## Para agregar mas de una funcion al calculo se usa agregate"
   ]
  },
  {
   "cell_type": "code",
   "execution_count": 52,
   "metadata": {},
   "outputs": [
    {
     "output_type": "execute_result",
     "data": {
      "text/plain": "            min         mean    max  mean_kilo\ncut  color                                    \nFair D      536  4291.061350  16386   4.291061\n     E      337  3682.312500  15584   3.682313\n     F      496  3827.003205  17995   3.827003\n     G      369  4232.412141  18574   4.232412\n     H      659  5135.683168  18565   5.135683",
      "text/html": "<div>\n<style scoped>\n    .dataframe tbody tr th:only-of-type {\n        vertical-align: middle;\n    }\n\n    .dataframe tbody tr th {\n        vertical-align: top;\n    }\n\n    .dataframe thead th {\n        text-align: right;\n    }\n</style>\n<table border=\"1\" class=\"dataframe\">\n  <thead>\n    <tr style=\"text-align: right;\">\n      <th></th>\n      <th></th>\n      <th>min</th>\n      <th>mean</th>\n      <th>max</th>\n      <th>mean_kilo</th>\n    </tr>\n    <tr>\n      <th>cut</th>\n      <th>color</th>\n      <th></th>\n      <th></th>\n      <th></th>\n      <th></th>\n    </tr>\n  </thead>\n  <tbody>\n    <tr>\n      <th rowspan=\"5\" valign=\"top\">Fair</th>\n      <th>D</th>\n      <td>536</td>\n      <td>4291.061350</td>\n      <td>16386</td>\n      <td>4.291061</td>\n    </tr>\n    <tr>\n      <th>E</th>\n      <td>337</td>\n      <td>3682.312500</td>\n      <td>15584</td>\n      <td>3.682313</td>\n    </tr>\n    <tr>\n      <th>F</th>\n      <td>496</td>\n      <td>3827.003205</td>\n      <td>17995</td>\n      <td>3.827003</td>\n    </tr>\n    <tr>\n      <th>G</th>\n      <td>369</td>\n      <td>4232.412141</td>\n      <td>18574</td>\n      <td>4.232412</td>\n    </tr>\n    <tr>\n      <th>H</th>\n      <td>659</td>\n      <td>5135.683168</td>\n      <td>18565</td>\n      <td>5.135683</td>\n    </tr>\n  </tbody>\n</table>\n</div>"
     },
     "metadata": {},
     "execution_count": 52
    }
   ],
   "source": [
    "diamonds.groupby([\"cut\",\"color\"])[\"price\"].aggregate(['min',np.mean,max,mean_kilo]).head(5)"
   ]
  },
  {
   "cell_type": "markdown",
   "metadata": {},
   "source": [
    "## agg realiza la misma funcion que aggregate"
   ]
  },
  {
   "cell_type": "code",
   "execution_count": 58,
   "metadata": {},
   "outputs": [
    {
     "output_type": "execute_result",
     "data": {
      "text/plain": "            min         mean    max  mean_kilo\ncut  color                                    \nFair D      536  4291.061350  16386   4.291061\n     E      337  3682.312500  15584   3.682313\n     F      496  3827.003205  17995   3.827003\n     G      369  4232.412141  18574   4.232412\n     H      659  5135.683168  18565   5.135683",
      "text/html": "<div>\n<style scoped>\n    .dataframe tbody tr th:only-of-type {\n        vertical-align: middle;\n    }\n\n    .dataframe tbody tr th {\n        vertical-align: top;\n    }\n\n    .dataframe thead th {\n        text-align: right;\n    }\n</style>\n<table border=\"1\" class=\"dataframe\">\n  <thead>\n    <tr style=\"text-align: right;\">\n      <th></th>\n      <th></th>\n      <th>min</th>\n      <th>mean</th>\n      <th>max</th>\n      <th>mean_kilo</th>\n    </tr>\n    <tr>\n      <th>cut</th>\n      <th>color</th>\n      <th></th>\n      <th></th>\n      <th></th>\n      <th></th>\n    </tr>\n  </thead>\n  <tbody>\n    <tr>\n      <th rowspan=\"5\" valign=\"top\">Fair</th>\n      <th>D</th>\n      <td>536</td>\n      <td>4291.061350</td>\n      <td>16386</td>\n      <td>4.291061</td>\n    </tr>\n    <tr>\n      <th>E</th>\n      <td>337</td>\n      <td>3682.312500</td>\n      <td>15584</td>\n      <td>3.682313</td>\n    </tr>\n    <tr>\n      <th>F</th>\n      <td>496</td>\n      <td>3827.003205</td>\n      <td>17995</td>\n      <td>3.827003</td>\n    </tr>\n    <tr>\n      <th>G</th>\n      <td>369</td>\n      <td>4232.412141</td>\n      <td>18574</td>\n      <td>4.232412</td>\n    </tr>\n    <tr>\n      <th>H</th>\n      <td>659</td>\n      <td>5135.683168</td>\n      <td>18565</td>\n      <td>5.135683</td>\n    </tr>\n  </tbody>\n</table>\n</div>"
     },
     "metadata": {},
     "execution_count": 58
    }
   ],
   "source": [
    "diamonds.groupby([\"cut\",\"color\"])[\"price\"].agg(['min',np.mean,max,mean_kilo]).head(5)"
   ]
  },
  {
   "cell_type": "markdown",
   "metadata": {},
   "source": [
    "## Tambien se puede usar lambda para realizar el calculo de una funcion"
   ]
  },
  {
   "cell_type": "code",
   "execution_count": 57,
   "metadata": {},
   "outputs": [
    {
     "output_type": "execute_result",
     "data": {
      "text/plain": "0         652\n1         652\n2         654\n3         668\n4         670\n         ... \n53915    5514\n53916    5514\n53917    5514\n53918    5514\n53919    5514\nName: price, Length: 53920, dtype: int64"
     },
     "metadata": {},
     "execution_count": 57
    }
   ],
   "source": [
    "diamonds.groupby([\"cut\",\"color\"])[\"price\"].apply(lambda x : x*2)"
   ]
  },
  {
   "cell_type": "code",
   "execution_count": 61,
   "metadata": {},
   "outputs": [
    {
     "output_type": "execute_result",
     "data": {
      "text/plain": "{'tip': [<function min>, <function max>],\n 'total_bill': [<function numpy.mean(a, axis=None, dtype=None, out=None, keepdims=<no value>)>,\n  <module 'numpy' from '/Library/Frameworks/Python.framework/Versions/3.8/lib/python3.8/site-packages/numpy/__init__.py'>]}"
     },
     "metadata": {},
     "execution_count": 61
    }
   ],
   "source": [
    "diccionario = {\"tip\":[min,max],\"total_bill\":[np.mean,np]}\n",
    "diccionario"
   ]
  },
  {
   "cell_type": "code",
   "execution_count": 165,
   "metadata": {},
   "outputs": [],
   "source": [
    "def filtro(x):\n",
    "    return mean_kilo(x[\"price\"]) > 4"
   ]
  },
  {
   "cell_type": "code",
   "execution_count": 169,
   "metadata": {},
   "outputs": [
    {
     "output_type": "execute_result",
     "data": {
      "text/plain": "       carat      cut color clarity  depth  table  price     x     y     z  \\\n1       0.21  Premium     E      SI   59.8   61.0    326  3.89  3.84  2.31   \n3       0.29  Premium     I      VS   62.4   58.0    334  4.20  4.23  2.63   \n8       0.22     Fair     E      VS   65.1   61.0    337  3.87  3.78  2.49   \n12      0.22  Premium     F      SI   60.4   61.0    342  3.88  3.84  2.33   \n14      0.20  Premium     E      SI   60.2   62.0    345  3.79  3.75  2.27   \n...      ...      ...   ...     ...    ...    ...    ...   ...   ...   ...   \n53908   0.79  Premium     E      SI   61.4   58.0   2756  6.03  5.96  3.68   \n53910   0.71  Premium     E      SI   60.5   55.0   2756  5.79  5.74  3.49   \n53911   0.71  Premium     F      SI   59.8   62.0   2756  5.74  5.73  3.43   \n53914   0.72  Premium     D      SI   62.7   59.0   2757  5.69  5.73  3.58   \n53918   0.86  Premium     H      SI   61.0   58.0   2757  6.15  6.12  3.74   \n\n           volume   density      ColorGrade  \n1       34.505856  0.001217       Colorless  \n3       46.724580  0.001241  Near Colorless  \n8       36.425214  0.001208       Colorless  \n12      34.715136  0.001267       Colorless  \n14      32.262375  0.001240       Colorless  \n...           ...       ...             ...  \n53908  132.254784  0.001195       Colorless  \n53910  115.988754  0.001224       Colorless  \n53911  112.813386  0.001259       Colorless  \n53914  116.721246  0.001234       Colorless  \n53918  140.766120  0.001222  Near Colorless  \n\n[15389 rows x 13 columns]",
      "text/html": "<div>\n<style scoped>\n    .dataframe tbody tr th:only-of-type {\n        vertical-align: middle;\n    }\n\n    .dataframe tbody tr th {\n        vertical-align: top;\n    }\n\n    .dataframe thead th {\n        text-align: right;\n    }\n</style>\n<table border=\"1\" class=\"dataframe\">\n  <thead>\n    <tr style=\"text-align: right;\">\n      <th></th>\n      <th>carat</th>\n      <th>cut</th>\n      <th>color</th>\n      <th>clarity</th>\n      <th>depth</th>\n      <th>table</th>\n      <th>price</th>\n      <th>x</th>\n      <th>y</th>\n      <th>z</th>\n      <th>volume</th>\n      <th>density</th>\n      <th>ColorGrade</th>\n    </tr>\n  </thead>\n  <tbody>\n    <tr>\n      <th>1</th>\n      <td>0.21</td>\n      <td>Premium</td>\n      <td>E</td>\n      <td>SI</td>\n      <td>59.8</td>\n      <td>61.0</td>\n      <td>326</td>\n      <td>3.89</td>\n      <td>3.84</td>\n      <td>2.31</td>\n      <td>34.505856</td>\n      <td>0.001217</td>\n      <td>Colorless</td>\n    </tr>\n    <tr>\n      <th>3</th>\n      <td>0.29</td>\n      <td>Premium</td>\n      <td>I</td>\n      <td>VS</td>\n      <td>62.4</td>\n      <td>58.0</td>\n      <td>334</td>\n      <td>4.20</td>\n      <td>4.23</td>\n      <td>2.63</td>\n      <td>46.724580</td>\n      <td>0.001241</td>\n      <td>Near Colorless</td>\n    </tr>\n    <tr>\n      <th>8</th>\n      <td>0.22</td>\n      <td>Fair</td>\n      <td>E</td>\n      <td>VS</td>\n      <td>65.1</td>\n      <td>61.0</td>\n      <td>337</td>\n      <td>3.87</td>\n      <td>3.78</td>\n      <td>2.49</td>\n      <td>36.425214</td>\n      <td>0.001208</td>\n      <td>Colorless</td>\n    </tr>\n    <tr>\n      <th>12</th>\n      <td>0.22</td>\n      <td>Premium</td>\n      <td>F</td>\n      <td>SI</td>\n      <td>60.4</td>\n      <td>61.0</td>\n      <td>342</td>\n      <td>3.88</td>\n      <td>3.84</td>\n      <td>2.33</td>\n      <td>34.715136</td>\n      <td>0.001267</td>\n      <td>Colorless</td>\n    </tr>\n    <tr>\n      <th>14</th>\n      <td>0.20</td>\n      <td>Premium</td>\n      <td>E</td>\n      <td>SI</td>\n      <td>60.2</td>\n      <td>62.0</td>\n      <td>345</td>\n      <td>3.79</td>\n      <td>3.75</td>\n      <td>2.27</td>\n      <td>32.262375</td>\n      <td>0.001240</td>\n      <td>Colorless</td>\n    </tr>\n    <tr>\n      <th>...</th>\n      <td>...</td>\n      <td>...</td>\n      <td>...</td>\n      <td>...</td>\n      <td>...</td>\n      <td>...</td>\n      <td>...</td>\n      <td>...</td>\n      <td>...</td>\n      <td>...</td>\n      <td>...</td>\n      <td>...</td>\n      <td>...</td>\n    </tr>\n    <tr>\n      <th>53908</th>\n      <td>0.79</td>\n      <td>Premium</td>\n      <td>E</td>\n      <td>SI</td>\n      <td>61.4</td>\n      <td>58.0</td>\n      <td>2756</td>\n      <td>6.03</td>\n      <td>5.96</td>\n      <td>3.68</td>\n      <td>132.254784</td>\n      <td>0.001195</td>\n      <td>Colorless</td>\n    </tr>\n    <tr>\n      <th>53910</th>\n      <td>0.71</td>\n      <td>Premium</td>\n      <td>E</td>\n      <td>SI</td>\n      <td>60.5</td>\n      <td>55.0</td>\n      <td>2756</td>\n      <td>5.79</td>\n      <td>5.74</td>\n      <td>3.49</td>\n      <td>115.988754</td>\n      <td>0.001224</td>\n      <td>Colorless</td>\n    </tr>\n    <tr>\n      <th>53911</th>\n      <td>0.71</td>\n      <td>Premium</td>\n      <td>F</td>\n      <td>SI</td>\n      <td>59.8</td>\n      <td>62.0</td>\n      <td>2756</td>\n      <td>5.74</td>\n      <td>5.73</td>\n      <td>3.43</td>\n      <td>112.813386</td>\n      <td>0.001259</td>\n      <td>Colorless</td>\n    </tr>\n    <tr>\n      <th>53914</th>\n      <td>0.72</td>\n      <td>Premium</td>\n      <td>D</td>\n      <td>SI</td>\n      <td>62.7</td>\n      <td>59.0</td>\n      <td>2757</td>\n      <td>5.69</td>\n      <td>5.73</td>\n      <td>3.58</td>\n      <td>116.721246</td>\n      <td>0.001234</td>\n      <td>Colorless</td>\n    </tr>\n    <tr>\n      <th>53918</th>\n      <td>0.86</td>\n      <td>Premium</td>\n      <td>H</td>\n      <td>SI</td>\n      <td>61.0</td>\n      <td>58.0</td>\n      <td>2757</td>\n      <td>6.15</td>\n      <td>6.12</td>\n      <td>3.74</td>\n      <td>140.766120</td>\n      <td>0.001222</td>\n      <td>Near Colorless</td>\n    </tr>\n  </tbody>\n</table>\n<p>15389 rows × 13 columns</p>\n</div>"
     },
     "metadata": {},
     "execution_count": 169
    }
   ],
   "source": [
    "diamonds.groupby(\"cut\").filter(filtro)"
   ]
  },
  {
   "cell_type": "markdown",
   "metadata": {},
   "source": [
    "## Encontrar datos duplicados"
   ]
  },
  {
   "cell_type": "code",
   "execution_count": 171,
   "metadata": {},
   "outputs": [],
   "source": [
    "duplicados = pd.DataFrame({'a': ['w'] * 4 + ['x'] * 3 + ['y'] * 2 + ['z']+['v'], \n",
    "                   'b': [1, 1, 1, 1, 2, 2, 2, 3, 3, 4,5]})"
   ]
  },
  {
   "cell_type": "code",
   "execution_count": 172,
   "metadata": {},
   "outputs": [
    {
     "output_type": "execute_result",
     "data": {
      "text/plain": "0     False\n1      True\n2      True\n3      True\n4     False\n5      True\n6      True\n7     False\n8      True\n9     False\n10    False\ndtype: bool"
     },
     "metadata": {},
     "execution_count": 172
    }
   ],
   "source": [
    "duplicados.duplicated()"
   ]
  },
  {
   "cell_type": "code",
   "execution_count": 173,
   "metadata": {},
   "outputs": [
    {
     "output_type": "execute_result",
     "data": {
      "text/plain": "0     False\n1      True\n2      True\n3      True\n4     False\n5      True\n6      True\n7     False\n8      True\n9     False\n10    False\ndtype: bool"
     },
     "metadata": {},
     "execution_count": 173
    }
   ],
   "source": [
    "duplicados.duplicated(keep=\"first\")"
   ]
  },
  {
   "cell_type": "code",
   "execution_count": 174,
   "metadata": {},
   "outputs": [
    {
     "output_type": "execute_result",
     "data": {
      "text/plain": "    a  b\n0   w  1\n4   x  2\n7   y  3\n9   z  4\n10  v  5",
      "text/html": "<div>\n<style scoped>\n    .dataframe tbody tr th:only-of-type {\n        vertical-align: middle;\n    }\n\n    .dataframe tbody tr th {\n        vertical-align: top;\n    }\n\n    .dataframe thead th {\n        text-align: right;\n    }\n</style>\n<table border=\"1\" class=\"dataframe\">\n  <thead>\n    <tr style=\"text-align: right;\">\n      <th></th>\n      <th>a</th>\n      <th>b</th>\n    </tr>\n  </thead>\n  <tbody>\n    <tr>\n      <th>0</th>\n      <td>w</td>\n      <td>1</td>\n    </tr>\n    <tr>\n      <th>4</th>\n      <td>x</td>\n      <td>2</td>\n    </tr>\n    <tr>\n      <th>7</th>\n      <td>y</td>\n      <td>3</td>\n    </tr>\n    <tr>\n      <th>9</th>\n      <td>z</td>\n      <td>4</td>\n    </tr>\n    <tr>\n      <th>10</th>\n      <td>v</td>\n      <td>5</td>\n    </tr>\n  </tbody>\n</table>\n</div>"
     },
     "metadata": {},
     "execution_count": 174
    }
   ],
   "source": [
    "duplicados[~duplicados.duplicated()]"
   ]
  },
  {
   "cell_type": "markdown",
   "metadata": {},
   "source": [
    "## Para borrar los registros duplicados"
   ]
  },
  {
   "cell_type": "code",
   "execution_count": 175,
   "metadata": {},
   "outputs": [
    {
     "output_type": "execute_result",
     "data": {
      "text/plain": "    a  b\n0   w  1\n4   x  2\n7   y  3\n9   z  4\n10  v  5",
      "text/html": "<div>\n<style scoped>\n    .dataframe tbody tr th:only-of-type {\n        vertical-align: middle;\n    }\n\n    .dataframe tbody tr th {\n        vertical-align: top;\n    }\n\n    .dataframe thead th {\n        text-align: right;\n    }\n</style>\n<table border=\"1\" class=\"dataframe\">\n  <thead>\n    <tr style=\"text-align: right;\">\n      <th></th>\n      <th>a</th>\n      <th>b</th>\n    </tr>\n  </thead>\n  <tbody>\n    <tr>\n      <th>0</th>\n      <td>w</td>\n      <td>1</td>\n    </tr>\n    <tr>\n      <th>4</th>\n      <td>x</td>\n      <td>2</td>\n    </tr>\n    <tr>\n      <th>7</th>\n      <td>y</td>\n      <td>3</td>\n    </tr>\n    <tr>\n      <th>9</th>\n      <td>z</td>\n      <td>4</td>\n    </tr>\n    <tr>\n      <th>10</th>\n      <td>v</td>\n      <td>5</td>\n    </tr>\n  </tbody>\n</table>\n</div>"
     },
     "metadata": {},
     "execution_count": 175
    }
   ],
   "source": [
    "duplicados.drop_duplicates()"
   ]
  },
  {
   "cell_type": "markdown",
   "metadata": {},
   "source": [
    "## Para eliminar los duplicados en una columna"
   ]
  },
  {
   "cell_type": "code",
   "execution_count": 179,
   "metadata": {},
   "outputs": [
    {
     "output_type": "execute_result",
     "data": {
      "text/plain": "    a  b\n3   w  1\n6   x  2\n8   y  3\n9   z  4\n10  v  5",
      "text/html": "<div>\n<style scoped>\n    .dataframe tbody tr th:only-of-type {\n        vertical-align: middle;\n    }\n\n    .dataframe tbody tr th {\n        vertical-align: top;\n    }\n\n    .dataframe thead th {\n        text-align: right;\n    }\n</style>\n<table border=\"1\" class=\"dataframe\">\n  <thead>\n    <tr style=\"text-align: right;\">\n      <th></th>\n      <th>a</th>\n      <th>b</th>\n    </tr>\n  </thead>\n  <tbody>\n    <tr>\n      <th>3</th>\n      <td>w</td>\n      <td>1</td>\n    </tr>\n    <tr>\n      <th>6</th>\n      <td>x</td>\n      <td>2</td>\n    </tr>\n    <tr>\n      <th>8</th>\n      <td>y</td>\n      <td>3</td>\n    </tr>\n    <tr>\n      <th>9</th>\n      <td>z</td>\n      <td>4</td>\n    </tr>\n    <tr>\n      <th>10</th>\n      <td>v</td>\n      <td>5</td>\n    </tr>\n  </tbody>\n</table>\n</div>"
     },
     "metadata": {},
     "execution_count": 179
    }
   ],
   "source": [
    "duplicados.drop_duplicates([\"a\"], keep= 'last')"
   ]
  },
  {
   "cell_type": "markdown",
   "metadata": {},
   "source": [
    "## Para definir bins se utiliza la funcion cut de pandas"
   ]
  },
  {
   "cell_type": "code",
   "execution_count": 82,
   "metadata": {},
   "outputs": [
    {
     "output_type": "execute_result",
     "data": {
      "text/plain": "(307.503, 6491.667]      43579\n(6491.667, 12657.333]     7346\n(12657.333, 18823.0]      2995\nName: price, dtype: int64"
     },
     "metadata": {},
     "execution_count": 82
    }
   ],
   "source": [
    "pd.cut(diamonds[\"price\"],bins = 3).value_counts()"
   ]
  },
  {
   "cell_type": "code",
   "execution_count": 93,
   "metadata": {},
   "outputs": [
    {
     "output_type": "execute_result",
     "data": {
      "text/plain": "(900000, 1200000]    0\n(600000, 900000]     0\n(300000, 600000]     0\nName: price, dtype: int64"
     },
     "metadata": {},
     "execution_count": 93
    }
   ],
   "source": [
    "pd.cut(diamonds[\"price\"],bins =[300000,600000,900000,1200000]).value_counts()"
   ]
  },
  {
   "cell_type": "code",
   "execution_count": null,
   "metadata": {},
   "outputs": [],
   "source": []
  }
 ],
 "metadata": {
  "language_info": {
   "codemirror_mode": {
    "name": "ipython",
    "version": 3
   },
   "file_extension": ".py",
   "mimetype": "text/x-python",
   "name": "python",
   "nbconvert_exporter": "python",
   "pygments_lexer": "ipython3",
   "version": "3.8.3-final"
  },
  "orig_nbformat": 2,
  "kernelspec": {
   "name": "python38364biteb3985601f43461fabc56bb6e92901b7",
   "display_name": "Python 3.8.3 64-bit"
  }
 },
 "nbformat": 4,
 "nbformat_minor": 2
}